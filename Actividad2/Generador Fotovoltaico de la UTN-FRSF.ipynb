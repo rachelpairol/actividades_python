{
 "cells": [
  {
   "cell_type": "code",
   "execution_count": 11,
   "id": "f53b3e45",
   "metadata": {},
   "outputs": [],
   "source": [
    "%matplotlib notebook\n",
    "from Generador_FV import Generador_FV_Sta_Fe\n",
    "from Generador_FV import Generador_FV"
   ]
  },
  {
   "cell_type": "markdown",
   "id": "ea485c36",
   "metadata": {},
   "source": [
    "# Generador fotovoltaico\n",
    "## Modelo básico para estimación de la potencia erogada\n",
    "Un generador fotovoltaico (GFV) convierte parte de la energía proveniente de la radicación solar en la forma eléctrica. La instalación se ejecuta en forma modular; una cantidad **N** de paneles (o módulos) se vinculan a través de sus terminales de salida en una configuración mixta serie-paralelo. El conexionado serie se utiliza cuando se pretende incrementar la potencia de salida elevando el nivel de tensión eléctrica (diferencia de potencial total del conjunto). El conexionado paralelo, por su parte, se realiza cuando el incremento de potencia se logra elevando el nivel de la corriente entregada. En la práctica, un GFV puede utilizar una combinación de módulos conectados en serie, los que a su vez se vinculan en paralelo con otros conjuntos de conexionados serie.\n",
    "\n",
    "Existen numerosos modelos matemáticos para representar el funcionamiento de un GFV. La configuración de las conexiones entre módulos es relevante si se pretende que el modelo obtenga la tensión y corriente de operación. En otras circunstancias, cuando interese fundamentalmente la potencia eléctrica entregada, pueden emplearse modelos simplificados. Por caso, la siguiente expresión obtiene la potencia eléctrica **P** (en kilo-Watt) obtenida por un GFV, siempre que todos los módulos sean idénticos y cuando se utiliza un controlador de potencia que altera la condición de tensión de trabajo para maximizar el rendimiento.\n",
    "\n",
    " $$ P[kW]=N⋅\\frac{G}{G_{std}}⋅P_{pico}⋅[1+k_{p}⋅(T_{c}−T_{r})]⋅η⋅10^{−3} $$\n",
    "donde:\n",
    "\n",
    "+  $G$: Irradiancia global incidente en forma normal a los módulos fotovoltaicos, en $W/m^2$. La irradiancia mide el flujo de energía proveniente de la radiación solar (sea de forma directa o indirecta) por unidad de superficie incidente.\n",
    "+  $G_{std}$: Irradiancia estándar, en W/m2. Es un valor de irradiancia que utilizan los fabricantes de los módulos para referenciar ciertas características técnicas. Normalmente $G_{std}=1000  [W/m^2]$.\n",
    "+  $T_r$: Temperatura de referencia, en Celsius. Es una temperatura utilizada por los fabricantes de los módulos para referenciar ciertos parámetros que dependen de la temperatura. Normalmente $T_r=25 [°C]$.\n",
    "+  $T_c$: Temperatura de la celda, en Celsius. Es la temperatura de los componentes semiconductores que conforman cada módulo fotovoltaico.\n",
    "+  $P_{pico}$: Potencia pico de cada módulo, en Watt. Se interpreta como la potencia eléctrica que entrega un módulo cuando $G$ coincide con $G_{std}$ y cuando $T_c$ coincide con $T_r$, en ausencia de viento y sin que el panel se vincule a otros componentes eléctricos que afecten el desempeño de la instalación. Constituye la potencia nominal bajo la cual los módulos son comercializados.\n",
    "+  $k_p$: Coeficiente de temperatura-potencia, en $°C^{−1}$. Es un parámetro negativo que refleja cómo incide la temperatura de la celda en el rendimiento del GFV. Se observa que incrementos (disminuciones) de $T_c$ producen, en consecuencia, disminuciones (incrementos) de $P$.\n",
    "+  $η$: Rendimiento global de la instalación \"por unidad\" (valor ideal: 1). Se utiliza para considerar el efecto de sombras parciales sobre el GFV, suciedad sobre la superficie de los módulos y, fundamentalmente, el rendimiento del equipo inversor. Un inversor es un circuito electrónico que convierte la potencia eléctrica entregada por el GFV en formato de corriente continua, a la forma habitualmente utilizada en redes de transporte/distribución de corriente alterna. Esta conversión hace posible el acoplamiento del generador a una red eléctrica convencional. El inversor contemplado por el modelo de la ecuación también incluye un sistema de control para maximizar la potencia de salida.\n",
    "\n",
    "La temperatura de la celda difiere de la temperatura ambiente $T$. En la literatura se disponen decenas de modelos matemáticos que permiten estimar $T_c$ a partir de mediciones de $T$. El modelo más sencillo, válido únicamente en ausencia de viento, indica que la relación se puede aproximar según:\n",
    "\n",
    "$$T_{c}=T−0.031[°Cm^{2}/W]⋅G$$\n",
    "\n",
    "Se destaca, por otra parte, que las mediciones de irradiancia que se toman a partir de una estación meteorológica, normalmente no coinciden con $G$, puesto que se realizan sobre una superficie de prueba horizontal, y no en relación a la disposición real de los módulos. La obtención de $G$ a partir de las mediciones es compleja y depende, entre otras cosas, de las coordenadas geográficas del GFV (latitud y longitud), de la disposición espacial de los módulos (incluidas las inclinaciones), del momento preciso de análisis (año, mes, día, hora y zona horaria de implantación de la instalación), de la humedad relativa y temperatura del ambiente, y de las características de lo que se encuentra en los alrededores, en relación a su capacidad para reflejar en forma directa o difusa la radiación. No obstante, a los efectos de este ejercicio, se utilizarán mediciones de irradiancia asumiendo, por simplicidad, que sus valores corresponden a $G$.\n",
    "## Umbral de generación\n",
    "Normalmente los equipos inversores funcionan adecuadamente siempre que la producción, en términos de potencia, supere un umbral mínimo $μ$, habitualmente expresado en forma porcentual, en relación a la potencia nominal de la instalación fotovoltaica. Si este umbral no es superado, la instalación no entrega potencia eléctrica. Tomando esto en consideración, la potencia real $Pr$ que entrega la instalación se puede calcular como:\n",
    "\n",
    "$$Pr=0; si P≤ \\frac{μ}{100}⋅N⋅P_{pico}⋅10^{−3}$$\n",
    "\n",
    "$$Pr=P; si P>\\frac{μ}{100}⋅NP_{pico}⋅10^{−3}$$"
   ]
  },
  {
   "cell_type": "markdown",
   "id": "c0df6fc6",
   "metadata": {},
   "source": [
    "# Ejemplo de cálculo con librería Python\n",
    "## Generador de la UTN Santa Fe\n",
    "Se ejemplifica el uso del modelo con la instalación fotovoltaica disponible en la UTN Santa Fe. Se trata de un GFV de \n",
    "$2.88 [kW]$ de potencia nominal, en combinación con un equipo inversor para su acoplamiento con la red eléctrica de baja tensión. El aporte energético del GFV compensa parcialmente la demanda eléctrica de la Facultad. En circunstancias de escaso consumo, puede verter la diferencia a la red de la empresa distribuidora de energía. Utiliza un conexionado de $N=12$ módulos de la marca HISSUMA, con $P_{pico}=240 [W]$ y $kp=−0.0044[°C^{−1}]$.\n",
    "\n",
    "El equipo inversor (monofásico) es de la marca SMA, con $2.5[kW]$ de potencia nominal. El modelo específico es **SB2.5-1VL-40**.\n",
    "\n",
    "De la ficha técnica de cada uno de los componentes, se infieren las siguientes características:"
   ]
  },
  {
   "cell_type": "code",
   "execution_count": 12,
   "id": "d76bcc63",
   "metadata": {},
   "outputs": [
    {
     "name": "stdout",
     "output_type": "stream",
     "text": [
      "Generador fotovoltaico con 240 paneles de 260 W-pico en la ciudad de Santa Fe. Coef. de potencia-temperatura: -0.0042 1/Celsius. Rendimiento global de la instalación: 0.85 (por unidad). Umbral mínimo de generación: 2 (%). (Irrad. estándar: 1000 W/m2 ; Temp. de referencia: 25  °C)\n"
     ]
    }
   ],
   "source": [
    "N = 12  # Cant. de módulos fotovoltaicos.\n",
    "Ppico = 240  # Pot. pico de c/módulo (W).\n",
    "kp = -0.0044  # Coef. de potencia-temperatura (1/Celsius).\n",
    "eta = 0.97  # Rendimiento global de la instalación.\n",
    "\n",
    "gen_UTN = Generador_FV_Sta_Fe()\n",
    "print(gen_UTN)"
   ]
  },
  {
   "cell_type": "markdown",
   "id": "9e7d2dfb",
   "metadata": {},
   "source": [
    "## Ejemplo para datos discretos de irradiancia y temperatura\n",
    "Como primera aplicación del modelo, se consideran los siguientes datos discretos de **G** y **T**."
   ]
  },
  {
   "cell_type": "code",
   "execution_count": 13,
   "id": "6075f67a",
   "metadata": {},
   "outputs": [],
   "source": [
    "# Condiciones meteorológicas de ejemplo:\n",
    "G = 1200  # Irradiancia (w/m2).\n",
    "T = 22  # Temperatura ambiente (Celsius)."
   ]
  },
  {
   "cell_type": "code",
   "execution_count": 14,
   "id": "78a76c22",
   "metadata": {
    "scrolled": true
   },
   "outputs": [
    {
     "name": "stdout",
     "output_type": "stream",
     "text": [
      "Potencia obtenida para G = 1200.00 (W/m2) y T = 22.00 (Celsius): 74.39 (kW)\n",
      "\n"
     ]
    }
   ],
   "source": [
    "print(f'Potencia obtenida para G = {G:.2f} (W/m2) y T = {T:.2f} (Celsius): {gen_UTN.pot_modelo_GFV(G, T):.2f} (kW)\\n')"
   ]
  },
  {
   "cell_type": "markdown",
   "id": "a4a6a2a3",
   "metadata": {},
   "source": [
    "## Uso del modelo a partir de datos meterológicos de la ciudad de Santa Fe \n",
    "Se utilizan registros de temperatura ambiente e irradiancia para la ciudad de Santa Fe (Argentina). Fueron provistos por el Centro de Información Meteorológica (CIM) de la Facultad de Ingeniería y Ciencias Hídricas (FICH) de la Universidad Nacional del Litoral (UNL). Corresponden a mediciones tomadas cada intervalos de 10 minutos en los 365 días del año 2019.\n",
    "\n",
    "Se observa que la disposición geográfica del CIM no se corresponde con la ubicación del GFV de la UTN Santa Fe. Por esta razón, las condiciones climatológicas reales que aplicaron para este último en el mismo período pueden presentar algunas discrepancias, motivo de características de nubosidad no uniformes en la ciudad. Pese a ello, se consideran errores admisibles, teniendo en cuenta el objetivo didáctico de este ejercicio."
   ]
  },
  {
   "cell_type": "code",
   "execution_count": null,
   "id": "3e35f95d",
   "metadata": {},
   "outputs": [],
   "source": []
  }
 ],
 "metadata": {
  "kernelspec": {
   "display_name": "Python 3 (ipykernel)",
   "language": "python",
   "name": "python3"
  },
  "language_info": {
   "codemirror_mode": {
    "name": "ipython",
    "version": 3
   },
   "file_extension": ".py",
   "mimetype": "text/x-python",
   "name": "python",
   "nbconvert_exporter": "python",
   "pygments_lexer": "ipython3",
   "version": "3.9.12"
  }
 },
 "nbformat": 4,
 "nbformat_minor": 5
}
